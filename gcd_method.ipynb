{
  "nbformat": 4,
  "nbformat_minor": 0,
  "metadata": {
    "colab": {
      "provenance": []
    },
    "kernelspec": {
      "name": "python3",
      "display_name": "Python 3"
    },
    "language_info": {
      "name": "python"
    }
  },
  "cells": [
    {
      "cell_type": "markdown",
      "source": [
        "#HOMEWORK 1\n"
      ],
      "metadata": {
        "id": "JXjRCsrodvvR"
      }
    },
    {
      "cell_type": "markdown",
      "source": [
        "AKUA SEKYIWAA OSEI-NKWANTABISA"
      ],
      "metadata": {
        "id": "m4mt0wx1d0Y7"
      }
    },
    {
      "cell_type": "code",
      "source": [
        "def gcd(a, b):\n",
        "  '''\n",
        "  This function calculates the Greatest Common Divisor (GCD) of two integers.\n",
        "\n",
        "  This recursive algorithm finds the GCD without multiplication or division, but through repeated subtraction.\n",
        "  It's based on the fact that the GCD of two numbers also divides their difference.\n",
        "\n",
        "  Parameters:\n",
        "  a (int): The larger integer.\n",
        "  b (int): The smaller integer, such that a > b.\n",
        "  Returns:\n",
        "  int: The GCD of a and b.\n",
        "\n",
        "  Exceptions:\n",
        "  Returns str : Any of the parameters supplied are not integers\n",
        "  '''\n",
        "  if type(a)==int and type(b)==int:\n",
        "    if a == b:\n",
        "        return a\n",
        "    elif b==0:\n",
        "        return a\n",
        "    elif a==0:\n",
        "        return b\n",
        "    if a > b:\n",
        "        return gcd(a - b, b)\n",
        "    else:\n",
        "        return gcd(a, b - a)\n",
        "    return f\"The Greatest Common Divisor of {a} and {b} is: {gcd(a, b)}\"\n",
        "  else:\n",
        "    return \"Use integers\""
      ],
      "metadata": {
        "id": "cfGxOvnfqdlj"
      },
      "execution_count": null,
      "outputs": []
    },
    {
      "cell_type": "code",
      "source": [
        "gcd(0,-70)"
      ],
      "metadata": {
        "id": "9DWlhUsXDzeq",
        "outputId": "51b8a3fe-bb40-4e79-ed9d-db9bf46251e5",
        "colab": {
          "base_uri": "https://localhost:8080/"
        }
      },
      "execution_count": null,
      "outputs": [
        {
          "output_type": "execute_result",
          "data": {
            "text/plain": [
              "-70"
            ]
          },
          "metadata": {},
          "execution_count": 3
        }
      ]
    },
    {
      "cell_type": "code",
      "source": [
        "def main():\n",
        "    '''\n",
        "    This function takes two integers, makes sure they are positive and calculates the Greatest Common Divisor\n",
        "    '''\n",
        "    first_number = abs(int(input('Enter the first number (Integers only): ')))\n",
        "    second_number = abs(int(input('Enter the second number (Integers only): ')))\n",
        "\n",
        "    # Display the GCD\n",
        "    print(f\"The Greatest Common Divisor of {first_number} and {second_number} is: {gcd(first_number, second_number)}\")\n",
        "\n",
        "\n",
        "def gcd(a, b):\n",
        "  '''\n",
        "  This function calculates the Greatest Common Divisor (GCD) of two integers.\n",
        "\n",
        "  This recursive algorithm finds the GCD without multiplication or division, but through repeated subtraction.\n",
        "  It's based on the fact that the GCD of two numbers also divides their difference.\n",
        "\n",
        "  Parameters:\n",
        "  a (int): The first number\n",
        "  b (int): The second number\n",
        "\n",
        "  Returns:\n",
        "  int: The GCD of a and b.\n",
        "\n",
        "  '''\n",
        "  if a == b or b==0:\n",
        "      return a\n",
        "  if a==0:\n",
        "      return b\n",
        "  if a > b:\n",
        "      return gcd(a - b, b)\n",
        "  else:\n",
        "      return gcd(a, b - a)\n",
        "  return gcd(a, b)\n",
        "\n",
        "# Call the main function.\n",
        "if __name__ == '__main__':\n",
        "    main()"
      ],
      "metadata": {
        "colab": {
          "base_uri": "https://localhost:8080/"
        },
        "id": "Z20Lj5cYLAl3",
        "outputId": "6bffcb45-e31c-4ddf-8ce0-7742b331d1ab"
      },
      "execution_count": null,
      "outputs": [
        {
          "output_type": "stream",
          "name": "stdout",
          "text": [
            "Enter the first number (Integers only): 0\n",
            "Enter the second number (Integers only): -70\n",
            "The Greatest Common Divisor of 0 and 70 is: 70\n"
          ]
        }
      ]
    },
    {
      "cell_type": "code",
      "source": [],
      "metadata": {
        "id": "KuU8JDxWPYcD"
      },
      "execution_count": null,
      "outputs": []
    }
  ]
}