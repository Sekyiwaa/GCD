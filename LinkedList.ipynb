{
  "nbformat": 4,
  "nbformat_minor": 0,
  "metadata": {
    "colab": {
      "provenance": []
    },
    "kernelspec": {
      "name": "python3",
      "display_name": "Python 3"
    },
    "language_info": {
      "name": "python"
    }
  },
  "cells": [
    {
      "cell_type": "markdown",
      "source": [
        "HOMEWORK 2.3\n"
      ],
      "metadata": {
        "id": "Gt3amiy1fDno"
      }
    },
    {
      "cell_type": "code",
      "source": [
        "#TRAVERSAL OF THE LINKED LIST\n",
        "\n",
        "class Node:\n",
        "\n",
        "    # Function to initialise the node object\n",
        "    def __init__(self, data):\n",
        "        self.data = data  # Assign data\n",
        "        self.next = None  # Initialize next as null\n",
        "\n",
        "\n",
        "# Linked List class contains a Node object\n",
        "class LinkedList:\n",
        "\n",
        "    # Function to initialize head\n",
        "    def __init__(self):\n",
        "        self.head = None\n",
        "\n",
        "\n",
        "    # This function insert an item in head\n",
        "    def insert_head(self, item):\n",
        "        item.next = self.head\n",
        "        self.head = item\n",
        "\n",
        "\n",
        "    # This function prints contents of linked list starting from head\n",
        "    def printList(self):\n",
        "        temp = self.head\n",
        "        while (temp):\n",
        "            print(temp.data)\n",
        "            temp = temp.next\n",
        "\n",
        "\n",
        "    def __str__(self):\n",
        "        ref = self.head\n",
        "        list = []\n",
        "        while (ref):\n",
        "            list.append(ref.data)\n",
        "            ref = ref.next\n",
        "\n",
        "        return str(list)\n",
        "\n",
        "\n",
        "\n",
        "# Code execution starts here\n",
        "if __name__ == '__main__':\n",
        "\n",
        "    # Start with the empty list\n",
        "    llist = LinkedList()\n",
        "\n",
        "    for k in range(1,11):\n",
        "       llist.insert_head(Node(k))\n",
        "\n",
        "    #llist.printList()\n",
        "    print(llist)\n"
      ],
      "metadata": {
        "colab": {
          "base_uri": "https://localhost:8080/"
        },
        "id": "WuTtw7YueN8g",
        "outputId": "34106879-e398-4f40-8316-aeeb1caf34c6"
      },
      "execution_count": null,
      "outputs": [
        {
          "output_type": "stream",
          "name": "stdout",
          "text": [
            "[10, 9, 8, 7, 6, 5, 4, 3, 2, 1]\n"
          ]
        }
      ]
    },
    {
      "cell_type": "code",
      "source": [
        "\"\""
      ],
      "metadata": {
        "id": "F_Msb8oPfkxz"
      },
      "execution_count": null,
      "outputs": []
    }
  ]
}